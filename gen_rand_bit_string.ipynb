{
 "cells": [
  {
   "cell_type": "code",
   "execution_count": 3,
   "metadata": {},
   "outputs": [],
   "source": [
    "import pandas as pd"
   ]
  },
  {
   "cell_type": "code",
   "execution_count": 4,
   "metadata": {},
   "outputs": [],
   "source": [
    "scale = 1_000_000_000_000\n",
    "bits_range = 2**32\n",
    "\n",
    "path = \"rounak/1710596725\"\n",
    "\n",
    "write_result = []\n",
    "for i in range(1, 6):\n",
    "    keystroke_data = pd.read_csv(f\"{path}/{i}.csv\")\n",
    "    result = None\n",
    "    for i in range(len(keystroke_data)):\n",
    "        first_row = keystroke_data.iloc[i]\n",
    "        press_latency = str(format(int(first_row['press_latency'] * scale)%bits_range, '032b'))\n",
    "        hold_latency = str(format(int(first_row['hold_latency'] * scale)%bits_range, '032b'))\n",
    "        inter_key_latency = str(format(int(first_row['inter_key_latency'] * scale)%bits_range, '032b'))\n",
    "        release_latency = str(format(int(first_row['release_latency'] * scale)%bits_range, '032b'))\n",
    "        final_bit_string = press_latency + hold_latency + inter_key_latency + release_latency\n",
    "        if result is None:\n",
    "            result = final_bit_string\n",
    "        else:\n",
    "            # xor the bit strings\n",
    "            result = ''.join('1' if a != b else '0' for a, b in zip(result, final_bit_string))\n",
    "    write_result.append(result)\n",
    "with open(f\"{path}/bit_strings.txt\", 'w') as f:\n",
    "    for item in write_result:\n",
    "        f.write(\"%s\\n\" % item)"
   ]
  },
  {
   "cell_type": "code",
   "execution_count": 4,
   "metadata": {},
   "outputs": [
    {
     "name": "stdout",
     "output_type": "stream",
     "text": [
      "64.8\n",
      "62.6\n",
      "61.56\n"
     ]
    }
   ],
   "source": [
    "def hamming_distance(str1, str2):\n",
    "    return sum(c1 != c2 for c1, c2 in zip(str1, str2))\n",
    "\n",
    "def avg_hamming_distance_intra_class(bit_strings):\n",
    "    s = 0\n",
    "    for i in range(len(bit_strings)-1):\n",
    "        for j in range(i+1,len(bit_strings)):\n",
    "            hamming_dist = hamming_distance(bit_strings[i], bit_strings[j])\n",
    "            s += hamming_dist\n",
    "    return s / (len(bit_strings) * (len(bit_strings) - 1) / 2)\n",
    "\n",
    "def avg_hamming_distance_inter_class(bit_strings1, bit_strings2):\n",
    "    s = 0\n",
    "    for i in range(len(bit_strings1)):\n",
    "        for j in range(len(bit_strings2)):\n",
    "            hamming_dist = hamming_distance(bit_strings1[i], bit_strings2[j])\n",
    "            s += hamming_dist\n",
    "    return s / (len(bit_strings1) * len(bit_strings2))\n",
    "\n",
    "dhruv_bit_strings = []\n",
    "rounak_bit_strings = []\n",
    "\n",
    "with open(\"user_dhruv/1710587357/bit_strings.txt\" ,\"rb\") as f:\n",
    "    bit_strings = f.readlines()\n",
    "    bit_strings = [x.strip() for x in bit_strings]\n",
    "    dhruv_bit_strings = bit_strings\n",
    "\n",
    "with open(\"rounak/1710596725/bit_strings.txt\" ,\"rb\") as f:\n",
    "    bit_strings = f.readlines()\n",
    "    bit_strings = [x.strip() for x in bit_strings]\n",
    "    rounak_bit_strings = bit_strings\n",
    "\n",
    "print(avg_hamming_distance_intra_class(dhruv_bit_strings))\n",
    "print(avg_hamming_distance_intra_class(rounak_bit_strings))\n",
    "\n",
    "print(avg_hamming_distance_inter_class(dhruv_bit_strings,rounak_bit_strings))"
   ]
  }
 ],
 "metadata": {
  "kernelspec": {
   "display_name": "env",
   "language": "python",
   "name": "python3"
  },
  "language_info": {
   "codemirror_mode": {
    "name": "ipython",
    "version": 3
   },
   "file_extension": ".py",
   "mimetype": "text/x-python",
   "name": "python",
   "nbconvert_exporter": "python",
   "pygments_lexer": "ipython3",
   "version": "3.11.5"
  }
 },
 "nbformat": 4,
 "nbformat_minor": 2
}
