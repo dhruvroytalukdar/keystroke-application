{
 "cells": [
  {
   "cell_type": "code",
   "execution_count": 1,
   "metadata": {},
   "outputs": [],
   "source": [
    "import pandas as pd"
   ]
  },
  {
   "cell_type": "code",
   "execution_count": 2,
   "metadata": {},
   "outputs": [],
   "source": [
    "scale = 1_000_000_000_000\n",
    "bits_range = 2**32\n",
    "\n",
    "write_result = []\n",
    "for i in range(1, 6):\n",
    "    keystroke_data = pd.read_csv(f\"dhruv/1710589214/{i}.csv\")\n",
    "    result = None\n",
    "    for i in range(len(keystroke_data)):\n",
    "        first_row = keystroke_data.iloc[i]\n",
    "        press_latency = str(format(int(first_row['press_latency'] * scale)%bits_range, '032b'))\n",
    "        hold_latency = str(format(int(first_row['hold_latency'] * scale)%bits_range, '032b'))\n",
    "        inter_key_latency = str(format(int(first_row['inter_key_latency'] * scale)%bits_range, '032b'))\n",
    "        release_latency = str(format(int(first_row['release_latency'] * scale)%bits_range, '032b'))\n",
    "        final_bit_string = press_latency + hold_latency + inter_key_latency + release_latency\n",
    "        if result is None:\n",
    "            result = final_bit_string\n",
    "        else:\n",
    "            # xor the bit strings\n",
    "            result = ''.join('1' if a != b else '0' for a, b in zip(result, final_bit_string))\n",
    "    write_result.append(result)\n",
    "with open('dhruv/1710589214/bit_strings.txt', 'w') as f:\n",
    "    for item in write_result:\n",
    "        f.write(\"%s\\n\" % item)"
   ]
  }
 ],
 "metadata": {
  "kernelspec": {
   "display_name": "env",
   "language": "python",
   "name": "python3"
  },
  "language_info": {
   "codemirror_mode": {
    "name": "ipython",
    "version": 3
   },
   "file_extension": ".py",
   "mimetype": "text/x-python",
   "name": "python",
   "nbconvert_exporter": "python",
   "pygments_lexer": "ipython3",
   "version": "3.11.5"
  }
 },
 "nbformat": 4,
 "nbformat_minor": 2
}
